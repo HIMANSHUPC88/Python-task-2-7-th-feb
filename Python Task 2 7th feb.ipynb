{
 "cells": [
  {
   "cell_type": "markdown",
   "id": "293dcd4a-4ed7-4e87-a72c-09dccf798c48",
   "metadata": {},
   "source": [
    "Q1. You are writing code for a company. The requirement of the company is that you create a python function that will check whether the password entered by the user is correct or not. The function should take the password as input and return the string “Valid Password” if the entered password follows the below-given password guidelines else it should return “Invalid Password”. Note: 1. The Password should contain at least two uppercase letters and at least two lowercase letters. 2. The Password should contain at least a number and three special characters. 3. The length of the password should be 10 characters long."
   ]
  },
  {
   "cell_type": "code",
   "execution_count": 7,
   "id": "575b123b-d0ac-4992-8bf4-bf911547bf52",
   "metadata": {},
   "outputs": [
    {
     "name": "stdin",
     "output_type": "stream",
     "text": [
      "Enter the password:  GHbn12@#@n\n"
     ]
    },
    {
     "name": "stdout",
     "output_type": "stream",
     "text": [
      "Valid Password\n"
     ]
    }
   ],
   "source": [
    "def check_password(password):\n",
    "    if len(password)!=10:\n",
    "        return \"Invalid password\"\n",
    "    \n",
    "    upper_count = 0 \n",
    "    for i in password:\n",
    "        if i.isupper():\n",
    "            upper_count = upper_count+1\n",
    "    if upper_count<2 :\n",
    "        return \"Invalid password\"\n",
    "    \n",
    "    lower_count = 0 \n",
    "    for i in password :\n",
    "        if i.islower():\n",
    "            lower_count+=1\n",
    "    if lower_count<2:\n",
    "        return\"Invalid password\"\n",
    "    \n",
    "    special_count = 0 \n",
    "    for i in password:\n",
    "        if not i.isdigit():\n",
    "            special_count+=1\n",
    "    if special_count<3:\n",
    "        return \"Invalid Password\"\n",
    "        \n",
    "    number = False \n",
    "    for i in password:\n",
    "        if i.isdigit():\n",
    "            number = True \n",
    "            break\n",
    "    if not number :\n",
    "        return\"Invalid password\"\n",
    "        \n",
    "    return \"Valid Password\"\n",
    "\n",
    "password = input(\"Enter the password: \")\n",
    "result = check_password(password)\n",
    "print(result)\n",
    "#Answer 1 completed"
   ]
  },
  {
   "cell_type": "markdown",
   "id": "e107659c-33f3-48c5-82c9-bed53a6b4622",
   "metadata": {},
   "source": [
    "Q2. Solve the below-given questions using at least one of the following:\n",
    "1. Lambda function\n",
    "2. Filter function \n",
    "3. Map function \n",
    "4. List Comprehension."
   ]
  },
  {
   "cell_type": "code",
   "execution_count": 9,
   "id": "3b4d6e6a-9a3f-4a20-aee0-658902e570ad",
   "metadata": {},
   "outputs": [
    {
     "data": {
      "text/plain": [
       "\"Your string(Hello World)is starts with 'H' \""
      ]
     },
     "execution_count": 9,
     "metadata": {},
     "output_type": "execute_result"
    }
   ],
   "source": [
    "#1. Check if the string starts with a particular letter.\n",
    "string = \"Hello World\"\n",
    "f\"Your string({ string })is starts with 'H' \" if string.startswith('H') else f\"Your string({string}) does not starts with 'H' \"\n",
    "#1 is completed"
   ]
  },
  {
   "cell_type": "code",
   "execution_count": 17,
   "id": "98443e27-7471-4d5f-bb8e-422f52d66279",
   "metadata": {},
   "outputs": [
    {
     "name": "stdin",
     "output_type": "stream",
     "text": [
      "String adfsgdfga154135a\n"
     ]
    },
    {
     "name": "stdout",
     "output_type": "stream",
     "text": [
      "The string has numeric value \n"
     ]
    },
    {
     "name": "stdin",
     "output_type": "stream",
     "text": [
      "String dgdfgddf\n"
     ]
    },
    {
     "name": "stdout",
     "output_type": "stream",
     "text": [
      "This string doesn't have any numeric value\n"
     ]
    }
   ],
   "source": [
    "#2. Check if the string is numeric.\n",
    "#using filter with  list comprehension \n",
    "string = input(\"String\")\n",
    "result = \"The string has numeric value \" if any(filter(str.isdigit , string) )else\"The string does not have any numeric value\"\n",
    "print(result)\n",
    "# and a simple form is \n",
    "string = input(\"String\")\n",
    "result = \"This string has numeric value \" if any(char.isdigit() for char in string)else \"This string doesn't have any numeric value\"\n",
    "print(result)\n",
    "#2 is completed"
   ]
  },
  {
   "cell_type": "code",
   "execution_count": 17,
   "id": "d8ca26a8-e445-4391-9146-67436c25aae7",
   "metadata": {},
   "outputs": [
    {
     "name": "stdout",
     "output_type": "stream",
     "text": [
      "[('orange', 80), ('mango', 99), ('grapes', 1000)]\n"
     ]
    }
   ],
   "source": [
    "#3. Sort a list of tuples having fruit names and their quantity. [(\"mango\",99),(\"orange\",80), (\"grapes\", 1000)\n",
    "# using lambda , sort function\n",
    "Fruits = [(\"mango\",99),(\"orange\",80), (\"grapes\", 1000)]\n",
    "sorted_fruits = sorted (Fruits , key = lambda x:x[1])\n",
    "print(sorted_fruits)\n",
    "# 3 is completed"
   ]
  },
  {
   "cell_type": "code",
   "execution_count": 28,
   "id": "b54d3f6b-457f-4d80-9107-d7f5d9b99f41",
   "metadata": {},
   "outputs": [
    {
     "data": {
      "text/plain": [
       "[1, 4, 9, 16, 25, 36, 49, 64, 81, 100]"
      ]
     },
     "execution_count": 28,
     "metadata": {},
     "output_type": "execute_result"
    }
   ],
   "source": [
    "#4. Find the squares of numbers from 1 to 10\n",
    "#using map function \n",
    "def square(n):\n",
    "    return n ** 2\n",
    "list(map(square, range(1,11)))\n",
    "#Answer 4 completed "
   ]
  },
  {
   "cell_type": "code",
   "execution_count": 20,
   "id": "00a5f8e1-a55a-4d78-ab7e-ffa6bd7d338f",
   "metadata": {},
   "outputs": [
    {
     "name": "stdout",
     "output_type": "stream",
     "text": [
      "[2.154434690031884, 2.154434690031884, 2.154434690031884, 2.154434690031884, 2.154434690031884, 2.154434690031884, 2.154434690031884, 2.154434690031884, 2.154434690031884, 2.154434690031884]\n"
     ]
    }
   ],
   "source": [
    "#5.Find the cube root of numbers from 1 to 10    \n",
    "#using list comprehension\n",
    "cube_root = [ num**(1/3) for i in range(1,11)]\n",
    "print(cube_root)\n",
    "# 5. completed"
   ]
  },
  {
   "cell_type": "code",
   "execution_count": 8,
   "id": "ab0dd334-2b7d-4f52-92f1-a35a74360ec3",
   "metadata": {},
   "outputs": [
    {
     "name": "stdin",
     "output_type": "stream",
     "text": [
      "Enter the Value of N 1\n"
     ]
    },
    {
     "name": "stdout",
     "output_type": "stream",
     "text": [
      "[]\n"
     ]
    }
   ],
   "source": [
    "#6.Check if a given number is even .\n",
    "#using filter  function\n",
    "N = int(input(\"Enter the Value of N\"))\n",
    "even = list(filter(lambda x : x %2 ==0 , [N]))\n",
    "print(even)\n",
    "#6. completed\n",
    "\n",
    "# if you enter even value so it will return those value.\n",
    "# but if you enter odd value so it will return []"
   ]
  },
  {
   "cell_type": "code",
   "execution_count": 29,
   "id": "53ada72d-60a1-4538-882e-6814ef7585e9",
   "metadata": {},
   "outputs": [
    {
     "data": {
      "text/plain": [
       "[3, 6, 9]"
      ]
     },
     "execution_count": 29,
     "metadata": {},
     "output_type": "execute_result"
    }
   ],
   "source": [
    "#7.Filter odd numbers from the given list.\n",
    "l = [1,2,3,4,5,6,7,8,9,10]\n",
    "list(filter(lambda x : x % 3 ==0 ,l))\n",
    "#using filter function\n",
    "#7. completed"
   ]
  },
  {
   "cell_type": "code",
   "execution_count": 10,
   "id": "bbd588c9-1afd-4ce7-adf9-4f55507a172a",
   "metadata": {},
   "outputs": [
    {
     "name": "stdout",
     "output_type": "stream",
     "text": [
      "Positive integers: [1, 2, 3, 4, 5, 6]\n",
      "Negative integers: [-5, -4, -3, -2, -1]\n"
     ]
    }
   ],
   "source": [
    "#8.Sort a list of integers into positive and negative integers lists. [1,2,3,4,5,6,-1,-2,-3,-4,-5,0]\n",
    "# list comprehension \n",
    "Integers = [-5,-4,-3,-2,-1,0,1,2,3,4,5,6]\n",
    "Positive_intergers= [i for i in Integers if i > 0 ]\n",
    "Negative_intergers = [i for i in Integers if i <0]\n",
    "\n",
    "print(\"Positive integers:\", Positive_integers)\n",
    "print(\"Negative integers:\",Negative_integers)\n",
    "# answer 8 is completed"
   ]
  },
  {
   "cell_type": "code",
   "execution_count": null,
   "id": "f66a634f-7e39-4c1f-98ca-01d1686890f5",
   "metadata": {},
   "outputs": [],
   "source": []
  }
 ],
 "metadata": {
  "kernelspec": {
   "display_name": "Python 3 (ipykernel)",
   "language": "python",
   "name": "python3"
  },
  "language_info": {
   "codemirror_mode": {
    "name": "ipython",
    "version": 3
   },
   "file_extension": ".py",
   "mimetype": "text/x-python",
   "name": "python",
   "nbconvert_exporter": "python",
   "pygments_lexer": "ipython3",
   "version": "3.10.8"
  }
 },
 "nbformat": 4,
 "nbformat_minor": 5
}
